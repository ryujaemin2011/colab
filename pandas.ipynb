{
  "nbformat": 4,
  "nbformat_minor": 0,
  "metadata": {
    "colab": {
      "provenance": [],
      "authorship_tag": "ABX9TyP11Q/XfeXJpxuDABfzTZFq",
      "include_colab_link": true
    },
    "kernelspec": {
      "name": "python3",
      "display_name": "Python 3"
    },
    "language_info": {
      "name": "python"
    }
  },
  "cells": [
    {
      "cell_type": "markdown",
      "metadata": {
        "id": "view-in-github",
        "colab_type": "text"
      },
      "source": [
        "<a href=\"https://colab.research.google.com/github/ryujaemin2011/colab/blob/main/pandas.ipynb\" target=\"_parent\"><img src=\"https://colab.research.google.com/assets/colab-badge.svg\" alt=\"Open In Colab\"/></a>"
      ]
    },
    {
      "cell_type": "code",
      "execution_count": 12,
      "metadata": {
        "colab": {
          "base_uri": "https://localhost:8080/"
        },
        "id": "shl7qBTYgd_U",
        "outputId": "5b0e3d10-280a-4656-f851-7273c7557f27"
      },
      "outputs": [
        {
          "output_type": "stream",
          "name": "stdout",
          "text": [
            "첫 5개:\n",
            "0    10\n",
            "1    20\n",
            "2    30\n",
            "3    40\n",
            "4    50\n",
            "dtype: int64\n",
            "뒷 5개:\n",
            "5     60\n",
            "6     70\n",
            "7     80\n",
            "8     90\n",
            "9    100\n",
            "dtype: int64\n",
            "a    12\n",
            "b     9\n",
            "c     4\n",
            "dtype: int64\n",
            "count     3.000000\n",
            "mean      8.333333\n",
            "std       4.041452\n",
            "min       4.000000\n",
            "25%       6.500000\n",
            "50%       9.000000\n",
            "75%      10.500000\n",
            "max      12.000000\n",
            "dtype: float64\n",
            "    0    1\n",
            "0  10   20\n",
            "1  30   40\n",
            "2  50   60\n",
            "3  70   80\n",
            "4  90  100\n",
            "   left  right\n",
            "0    10     20\n",
            "1    30     40\n",
            "2    50     60\n",
            "3    70     80\n",
            "4    90    100\n",
            "0    10\n",
            "1    30\n",
            "2    50\n",
            "3    70\n",
            "4    90\n",
            "Name: left, dtype: int64\n"
          ]
        }
      ],
      "source": [
        "#판다스 불러오기\n",
        "import pandas as pd\n",
        "\n",
        "#시리즈 만들기\n",
        "sr = pd.Series([10, 20, 30, 40, 50, 60, 70, 80, 90, 100])\n",
        "\n",
        "#첫 5개 요소\n",
        "print('첫 5개:\\n{}'.format(sr.head()))\n",
        "\n",
        "#뒷 5개\n",
        "print('뒷 5개:\\n{}'.format(sr.tail()))\n",
        "\n",
        "#인덱스 자체설정\n",
        "sr = pd.Series([12, 9, 4], index=['a', 'b', 'c'])\n",
        "\n",
        "#출력\n",
        "print(sr)\n",
        "\n",
        "#통계정보 확인\n",
        "print(sr.describe())\n",
        "\n",
        "#데이터 프레임\n",
        "df = pd.DataFrame([[10, 20], [30, 40], [50, 60], [70, 80], [90, 100]])\n",
        "\n",
        "#첫 5개\n",
        "print(df.head())\n",
        "\n",
        "#열 이름 지정\n",
        "df = pd.DataFrame([[10, 20], [30, 40], [50, 60], [70, 80], [90, 100]], columns=['left', 'right'])\n",
        "\n",
        "#출력\n",
        "print(df)\n",
        "\n",
        "#특정 열 출력\n",
        "print(df['left'])"
      ]
    }
  ]
}