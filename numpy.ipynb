{
  "nbformat": 4,
  "nbformat_minor": 0,
  "metadata": {
    "colab": {
      "provenance": [],
      "authorship_tag": "ABX9TyPb6FFLx7wO+3xDDAuzzV2Q",
      "include_colab_link": true
    },
    "kernelspec": {
      "name": "python3",
      "display_name": "Python 3"
    },
    "language_info": {
      "name": "python"
    }
  },
  "cells": [
    {
      "cell_type": "markdown",
      "metadata": {
        "id": "view-in-github",
        "colab_type": "text"
      },
      "source": [
        "<a href=\"https://colab.research.google.com/github/ryujaemin2011/colab/blob/main/numpy.ipynb\" target=\"_parent\"><img src=\"https://colab.research.google.com/assets/colab-badge.svg\" alt=\"Open In Colab\"/></a>"
      ]
    },
    {
      "cell_type": "code",
      "execution_count": null,
      "metadata": {
        "id": "xhX-R4ITL2zn",
        "colab": {
          "base_uri": "https://localhost:8080/"
        },
        "outputId": "c3cbc254-efde-4489-81d8-8ce2f9c11893"
      },
      "outputs": [
        {
          "output_type": "stream",
          "name": "stdout",
          "text": [
            "넘파이 배열: [1 3 5 7]\n",
            "배열 형태: (4,)\n",
            "데이터 타입: <class 'numpy.ndarray'>\n",
            "배열 요소의 데이터 타입: int64\n",
            "넘파이 배열: [[1 3 5 7]\n",
            " [1 2 3 4]]\n",
            "배열 형태: (2, 4)\n",
            "넘파이 배열: [[0. 0. 0.]\n",
            " [0. 0. 0.]\n",
            " [0. 0. 0.]]\n",
            "넘파이 배열: [[1. 1. 1. 1.]\n",
            " [1. 1. 1. 1.]]\n",
            "넘파이 배열: [[0.2610737  0.12161397 0.08743209 0.80276077]\n",
            " [0.07618194 0.89398814 0.89910078 0.18355778]]\n",
            "넘파이 배열: [[6 8 7 9]\n",
            " [9 9 6 9]]\n",
            "[1 2 3 4 5 6 7 8 9]\n",
            "[0.1 0.2 0.3 0.4 0.5 0.6 0.7 0.8 0.9]\n",
            "[1, 2, 3, 4, 1, 2, 3, 4]\n",
            "[2 4 6 8]\n",
            "[False False  True  True]\n",
            "[3 4]\n"
          ]
        }
      ],
      "source": [
        "#넘파이 임포트\n",
        "import numpy as np\n",
        "\n",
        "#넘파이 배열을 만들기\n",
        "arr = np.array([1, 3, 5, 7])\n",
        "\n",
        "#배열 프린트\n",
        "print('넘파이 배열: {}'.format(arr))\n",
        "\n",
        "#배열 형태 프린트\n",
        "print('배열 형태: {}'.format(arr.shape))\n",
        "\n",
        "#배열 데이터 타입 출력\n",
        "print('데이터 타입: {}'.format(type(arr)))\n",
        "\n",
        "#요소의 데이터 타입 출력\n",
        "print('배열 요소의 데이터 타입: {}'.format(arr.dtype))\n",
        "\n",
        "#2차원 배열\n",
        "arr = np.array([[1,3,5,7], [1,2,3,4]])\n",
        "\n",
        "#배열 출력\n",
        "print('넘파이 배열: {}'.format(arr))\n",
        "\n",
        "#형태 출력\n",
        "print('배열 형태: {}'.format(arr.shape))\n",
        "\n",
        "#요솟값 0인 3행 3열 넘파이 배열\n",
        "arr = np.zeros((3, 3))\n",
        "\n",
        "#배열 출력\n",
        "print('넘파이 배열: {}'.format(arr))\n",
        "\n",
        "#요솟값 1인 2행 4열 넘파이 배열\n",
        "arr = np.ones((2, 4))\n",
        "\n",
        "#출력\n",
        "print('넘파이 배열: {}'.format(arr))\n",
        "\n",
        "#0~1사이 무작위 값 2행 4열 배열\n",
        "arr = np.random.rand(2, 4)\n",
        "\n",
        "#출력\n",
        "print('넘파이 배열: {}'.format(arr))\n",
        "\n",
        "#5이상 10미만 정수 2행 4열\n",
        "arr = np.random.randint(5, 10, size=(2, 4))\n",
        "\n",
        "#출력\n",
        "print('넘파이 배열: {}'.format(arr))\n",
        "\n",
        "#일정간격 정숫값 배열\n",
        "arr1 = np.arange(1, 10, 1)\n",
        "\n",
        "#출력\n",
        "print(arr1)\n",
        "\n",
        "#일정간격 실수배열\n",
        "arr2 = np.arange(0.1, 1, 0.1)\n",
        "\n",
        "#출력\n",
        "print(arr2)\n",
        "\n",
        "#파이썬 리스트\n",
        "pylist = [1, 2, 3, 4]\n",
        "\n",
        "#넘파이 배열\n",
        "nparr = np.array([1, 2, 3, 4])\n",
        "\n",
        "#곱셈 비교\n",
        "print(pylist*2)\n",
        "print(nparr*2)\n",
        "\n",
        "arr = np.array([1, 2, 3, 4])\n",
        "arrmask = arr > 2\n",
        "arrfiltered = arr[arrmask]\n",
        "print(arrmask)\n",
        "print(arrfiltered)"
      ]
    }
  ]
}