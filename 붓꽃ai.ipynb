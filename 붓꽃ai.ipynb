{
  "nbformat": 4,
  "nbformat_minor": 0,
  "metadata": {
    "colab": {
      "provenance": [],
      "gpuType": "T4",
      "authorship_tag": "ABX9TyPLipLnm7KO5cqIAk5uQCb5",
      "include_colab_link": true
    },
    "kernelspec": {
      "name": "python3",
      "display_name": "Python 3"
    },
    "language_info": {
      "name": "python"
    }
  },
  "cells": [
    {
      "cell_type": "markdown",
      "metadata": {
        "id": "view-in-github",
        "colab_type": "text"
      },
      "source": [
        "<a href=\"https://colab.research.google.com/github/ryujaemin2011/colab/blob/main/%EB%B6%93%EA%BD%83ai.ipynb\" target=\"_parent\"><img src=\"https://colab.research.google.com/assets/colab-badge.svg\" alt=\"Open In Colab\"/></a>"
      ]
    },
    {
      "cell_type": "code",
      "execution_count": null,
      "metadata": {
        "id": "6Ql-mrQjsDAJ",
        "colab": {
          "base_uri": "https://localhost:8080/"
        },
        "outputId": "6331a4ab-b73e-40bd-9781-2e06551cadb3"
      },
      "outputs": [
        {
          "output_type": "stream",
          "name": "stdout",
          "text": [
            "추론: [0 0 0 0 0 0 0 0 0 0 0 0 0 0 0 0 0 0 0 0 0 0 0 0 0 0 0 0 0 0 0 0 0 0 0 0 0\n",
            " 0 0 0 0 0 0 0 0 0 0 0 0 0 1 1 1 1 1 1 1 1 1 1 1 1 1 1 1 1 1 1 1 1 1 1 2 1\n",
            " 1 1 1 2 1 1 1 1 1 2 1 1 1 1 1 1 1 1 1 1 1 1 1 1 1 1 2 2 2 2 2 2 1 2 2 2 2\n",
            " 2 2 2 2 2 2 2 2 2 2 2 2 2 2 2 2 2 2 2 2 2 2 2 2 2 2 2 2 2 2 2 2 2 2 2 2 2\n",
            " 2 2]\n",
            "실제: [0 0 0 0 0 0 0 0 0 0 0 0 0 0 0 0 0 0 0 0 0 0 0 0 0 0 0 0 0 0 0 0 0 0 0 0 0\n",
            " 0 0 0 0 0 0 0 0 0 0 0 0 0 1 1 1 1 1 1 1 1 1 1 1 1 1 1 1 1 1 1 1 1 1 1 1 1\n",
            " 1 1 1 1 1 1 1 1 1 1 1 1 1 1 1 1 1 1 1 1 1 1 1 1 1 1 2 2 2 2 2 2 2 2 2 2 2\n",
            " 2 2 2 2 2 2 2 2 2 2 2 2 2 2 2 2 2 2 2 2 2 2 2 2 2 2 2 2 2 2 2 2 2 2 2 2 2\n",
            " 2 2]\n",
            "학습세트 정확도: 0.973\n",
            "테스트 세트 정확도: 0.974\n"
          ]
        }
      ],
      "source": [
        "#라이브러리 임포트\n",
        "from sklearn import datasets\n",
        "from sklearn.neighbors import KNeighborsClassifier\n",
        "from sklearn.model_selection import train_test_split\n",
        "\n",
        "#사이킷런에서 붓꽃 데이터 불러오기\n",
        "dataset = datasets.load_iris()\n",
        "\n",
        "#입력 데이터,타깃 준비\n",
        "X, y = dataset['data'], dataset['target']\n",
        "\n",
        "#데이터 입력,테스트로 분활\n",
        "X_train, X_test, y_train, y_test = train_test_split(X, y, random_state=0)\n",
        "\n",
        "#K-최근접 이웃 모델 만들기\n",
        "model = KNeighborsClassifier(n_neighbors=5)\n",
        "\n",
        "#학습\n",
        "model.fit(X_train, y_train)\n",
        "\n",
        "#추론\n",
        "y_predicted = model.predict(X)\n",
        "\n",
        "#추론,실제 비교\n",
        "print('추론: {labels}'.format(labels=y_predicted))\n",
        "print('실제: {labels}'.format(labels=y))\n",
        "\n",
        "#정확도 계산\n",
        "train_score = model.score(X_train, y_train)\n",
        "test_score = model.score(X_test, y_test)\n",
        "\n",
        "#정확도 출력\n",
        "print('학습세트 정확도: {:.3f}'.format(train_score))\n",
        "print('테스트 세트 정확도: {:.3f}'.format(test_score))"
      ]
    }
  ]
}